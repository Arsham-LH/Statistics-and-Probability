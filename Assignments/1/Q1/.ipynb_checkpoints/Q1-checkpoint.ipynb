{
 "cells": [
  {
   "cell_type": "code",
   "execution_count": 23,
   "id": "5518f8e8",
   "metadata": {},
   "outputs": [
    {
     "name": "stdout",
     "output_type": "stream",
     "text": [
      "3.137500980469057\n"
     ]
    }
   ],
   "source": [
    "from math import pi as pi\n",
    "from math import sin as sin\n",
    "import numpy as np\n",
    "from scipy.stats import bernoulli as ber\n",
    "\n",
    "total = 100000 # total experiments\n",
    "l = 5 #lines distance\n",
    "L = 1 #needle length\n",
    "result = np.array([0]*total) # array of experiments results, one if lies across a line, zero otherwise\n",
    "\n",
    "x = np.random.uniform(0,5,total) #needles center from previous line\n",
    "theta = np.random.uniform(0,pi,total) #angle with lines\n",
    "for i in range(total):\n",
    "    if (x[i]+L/2*sin(theta[i]))>=l or (x[i]-L/2*sin(theta[i]))<=0: #if needle and line intersect\n",
    "        result[i] = 1\n",
    "p = sum(result)/total #the probability\n",
    "\n",
    "pi_app = 2*L/(l*p) #our approximation of pi number\n",
    "print(pi_app)\n",
    "\n",
    "        \n"
   ]
  },
  {
   "cell_type": "code",
   "execution_count": null,
   "id": "d16eea25",
   "metadata": {},
   "outputs": [],
   "source": []
  }
 ],
 "metadata": {
  "kernelspec": {
   "display_name": "Python 3 (ipykernel)",
   "language": "python",
   "name": "python3"
  },
  "language_info": {
   "codemirror_mode": {
    "name": "ipython",
    "version": 3
   },
   "file_extension": ".py",
   "mimetype": "text/x-python",
   "name": "python",
   "nbconvert_exporter": "python",
   "pygments_lexer": "ipython3",
   "version": "3.9.7"
  }
 },
 "nbformat": 4,
 "nbformat_minor": 5
}

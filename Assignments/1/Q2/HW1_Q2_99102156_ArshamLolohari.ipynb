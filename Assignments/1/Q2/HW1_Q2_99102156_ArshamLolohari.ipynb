{
 "cells": [
  {
   "cell_type": "code",
   "execution_count": 49,
   "id": "d8b48795",
   "metadata": {},
   "outputs": [
    {
     "name": "stdout",
     "output_type": "stream",
     "text": [
      "P(A=+a|B=+b) = 0.9540566959921799\n",
      "P(A=+a|B=-b) = 0.010042737201572083\n",
      "P(A=-a) = 0.9803\n"
     ]
    }
   ],
   "source": [
    "import numpy as np\n",
    "from scipy.stats import bernoulli as ber\n",
    "\n",
    "total = 100000 #total experiments\n",
    "x = ber.rvs(p=0.01,size=total) #burglary event\n",
    "y = np.array([0]*total) #alarm event\n",
    "temp = 0\n",
    "for i in range(total):\n",
    "    if x[i]==1: #if burglary==true,\n",
    "        temp = np.random.randint(1,101)\n",
    "        if temp<=94:\n",
    "            y[i]=1 #alarm is true with probability 0.94\n",
    "    else:\n",
    "        temp = np.random.randint(1,101)\n",
    "        if temp==100:\n",
    "            y[i]=1 #if burglary == flase, alarm is true with probability 0.01\n",
    "s1,s2,s3=0,0,0 #si: total desired outcomes for probability pi\n",
    "for i in range(total):\n",
    "    if x[i]==1: # if burglary is true,\n",
    "        if y[i]==1: #if alarm is true,\n",
    "            s1=s1+1 #it's desired outcome for p1\n",
    "        else:\n",
    "            s3=s3+1 #it's desired outcome for p3\n",
    "    else:\n",
    "        if y[i]==1:\n",
    "            s2=s2+1 #it's desired outcome for p2\n",
    "        else:\n",
    "            s3=s3+1 #it's desired outcome for p3\n",
    "p1=s1/sum(x) #P(A=+a|B=+b)\n",
    "p2=s2/(total-sum(x)) #P(A=+a|B=-b)\n",
    "p3=s3/total #P(A=-a)\n",
    "\n",
    "print(f\"P(A=+a|B=+b) = {p1}\")\n",
    "print(f\"P(A=+a|B=-b) = {p2}\")\n",
    "print(f\"P(A=-a) = {p3}\")"
   ]
  }
 ],
 "metadata": {
  "kernelspec": {
   "display_name": "Python 3 (ipykernel)",
   "language": "python",
   "name": "python3"
  },
  "language_info": {
   "codemirror_mode": {
    "name": "ipython",
    "version": 3
   },
   "file_extension": ".py",
   "mimetype": "text/x-python",
   "name": "python",
   "nbconvert_exporter": "python",
   "pygments_lexer": "ipython3",
   "version": "3.9.7"
  }
 },
 "nbformat": 4,
 "nbformat_minor": 5
}

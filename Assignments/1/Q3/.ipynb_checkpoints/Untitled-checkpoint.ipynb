{
 "cells": [
  {
   "cell_type": "code",
   "execution_count": null,
   "id": "0eedc54f",
   "metadata": {},
   "outputs": [],
   "source": [
    "import numpy as np\n",
    "from math import pi as pi\n",
    "\n",
    "def p_centerContain(n):\n",
    "    total = 10000\n",
    "    result = 0\n",
    "    for i in range(0,total):\n",
    "        n1 = np.random.randint(0,n-1)\n",
    "        n2 = np.random.randint(0,n-1)\n",
    "        while n2==n1:\n",
    "            n2 = np.random.randint(0,n-1)\n",
    "        n3 = np.random.randint(0,n-1)\n",
    "        while n3==n1 or n3==n2:\n",
    "            n3 = np.random.randint(0,n-1)\n",
    "        theta12 = (min(abs(n1-n2),n-abs(n1-n2))*2*pi)/n\n",
    "        theta13 = (min(abs(n1-n3),n-abs(n1-n3))*2*pi)/n\n",
    "        theta23 = (min(abs(n2-n3),n-abs(n2-n3))*2*pi)/n\n",
    "        if theta12<pi and theta13<pi and theta23<pi:\n",
    "            result = result+1\n",
    "    print(n1,n2,n3)\n",
    "    return result/total\n",
    "print(p_centerContain(4))"
   ]
  },
  {
   "cell_type": "code",
   "execution_count": null,
   "id": "c4b67333",
   "metadata": {},
   "outputs": [],
   "source": []
  }
 ],
 "metadata": {
  "kernelspec": {
   "display_name": "Python 3 (ipykernel)",
   "language": "python",
   "name": "python3"
  },
  "language_info": {
   "codemirror_mode": {
    "name": "ipython",
    "version": 3
   },
   "file_extension": ".py",
   "mimetype": "text/x-python",
   "name": "python",
   "nbconvert_exporter": "python",
   "pygments_lexer": "ipython3",
   "version": "3.9.7"
  }
 },
 "nbformat": 4,
 "nbformat_minor": 5
}

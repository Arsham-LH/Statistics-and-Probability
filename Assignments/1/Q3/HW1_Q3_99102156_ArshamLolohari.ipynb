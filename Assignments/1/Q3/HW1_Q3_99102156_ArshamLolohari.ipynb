{
 "cells": [
  {
   "cell_type": "code",
   "execution_count": 4,
   "id": "c82dab9f",
   "metadata": {},
   "outputs": [
    {
     "name": "stdout",
     "output_type": "stream",
     "text": [
      "0.0985\n"
     ]
    }
   ],
   "source": [
    "#3.1\n",
    "import numpy as np\n",
    "from math import pi as pi\n",
    "from random import sample\n",
    "\n",
    "def p_centerContain(n):\n",
    "    total = 10000 #total number of experiments\n",
    "    result = 0 #number of successful experiments\n",
    "    nodesList = list(range(0,n)) #list of polygon nodes, from 0 to n-1\n",
    "    for i in range(0,total):\n",
    "        selectedNodes = sample(nodesList,3) #choosing 3 random nodes from list\n",
    "        selectedNodes.sort()\n",
    "        n1 = selectedNodes[0] #the smallest number from selected nodes\n",
    "        n2 = selectedNodes[1] #the medium number\n",
    "        n3 = selectedNodes[2] #the largest number\n",
    "        theta12 = (n2-n1)*pi/n  #angle between n1,n2\n",
    "        theta23 = (n3-n2)*pi/n\n",
    "        theta13 = (n-(n3-n1))*pi/n\n",
    "        if theta12<pi/2 and theta13<pi/2 and theta23<pi/2: #triangle includes center, if all 3 angles are less than pi/2\n",
    "            result = result+1\n",
    "    probability = result/total\n",
    "    return probability\n",
    "print(p_centerContain(6))"
   ]
  },
  {
   "cell_type": "code",
   "execution_count": 19,
   "id": "51bb0b24",
   "metadata": {},
   "outputs": [],
   "source": [
    "#3.2\n",
    "def centerContainCaller():\n",
    "    MC_Result = np.zeros(1500-3+1) #initializing MC_Result\n",
    "    MC_Avg = np.zeros(1500-3+1) #initializing MC_Avg\n",
    "    for i in range(0,1500-3+1):\n",
    "        MC_Result[i] = p_centerContain(i+3) #recalling previous function, assigning the result in MC_Result\n",
    "        if i==0:\n",
    "            MC_Avg[i] = MC_Result[i] #for the first loop\n",
    "        else:\n",
    "            MC_Avg[i] = (MC_Avg[i-1]*i+MC_Result[i])/(i+1) #(sum of previous values + new value)/new size\n",
    "    return MC_Avg\n",
    "\n",
    "        \n",
    "        \n",
    "        \n",
    "        \n",
    "        \n",
    "        \n",
    "        "
   ]
  },
  {
   "cell_type": "code",
   "execution_count": 20,
   "id": "9df74cfa",
   "metadata": {},
   "outputs": [
    {
     "data": {
      "image/png": "[encoded data removed]",
      "text/plain": [
       "<Figure size 432x288 with 1 Axes>"
      ]
     },
     "metadata": {
      "needs_background": "light"
     },
     "output_type": "display_data"
    },
    {
     "name": "stdout",
     "output_type": "stream",
     "text": [
      "0.2510405874499331\n"
     ]
    }
   ],
   "source": [
    "#3.3\n",
    "from matplotlib import pyplot\n",
    "MC_avg = centerContainCaller()\n",
    "\n",
    "pyplot.figure()\n",
    "pyplot.plot(list(range(3,1500+1)),MC_avg)\n",
    "pyplot.title('Probability as a function of n')\n",
    "pyplot.xlabel('n')\n",
    "pyplot.ylabel('P')\n",
    "pyplot.grid(True)\n",
    "pyplot.axis([3,1500+1,0,1])\n",
    "\n",
    "pyplot.show()\n",
    "\n",
    "print(MC_avg[-1])"
   ]
  }
 ],
 "metadata": {
  "kernelspec": {
   "display_name": "Python 3 (ipykernel)",
   "language": "python",
   "name": "python3"
  },
  "language_info": {
   "codemirror_mode": {
    "name": "ipython",
    "version": 3
   },
   "file_extension": ".py",
   "mimetype": "text/x-python",
   "name": "python",
   "nbconvert_exporter": "python",
   "pygments_lexer": "ipython3",
   "version": "3.9.7"
  }
 },
 "nbformat": 4,
 "nbformat_minor": 5
}

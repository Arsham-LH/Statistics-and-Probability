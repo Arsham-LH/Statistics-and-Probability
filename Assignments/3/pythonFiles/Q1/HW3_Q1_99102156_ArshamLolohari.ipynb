{
 "cells": [
  {
   "cell_type": "code",
   "execution_count": 54,
   "id": "7c02fc43",
   "metadata": {},
   "outputs": [
    {
     "data": {
      "image/png": "[encoded data removed]",
      "text/plain": [
       "<Figure size 1080x432 with 1 Axes>"
      ]
     },
     "metadata": {
      "needs_background": "light"
     },
     "output_type": "display_data"
    }
   ],
   "source": [
    "import numpy as np\n",
    "from numpy.random import exponential as expon\n",
    "from math import ceil\n",
    "from math import exp\n",
    "from math import factorial as fact\n",
    "import matplotlib.pyplot as plt\n",
    "from scipy.stats import poisson\n",
    "\n",
    "\n",
    "landa=0.3 #landa in exponential random variable\n",
    "total = 1000 #total samples\n",
    "X=expon(1/landa,total) #creating a vector containing 1000 expoential distribution samples\n",
    "lastCallTime=sum(X)\n",
    "lastSecond=ceil(lastCallTime) #the last second to check, according to the last call time\n",
    "def callTime(X,index): #the time of call, given samples vector X & the corresponding index for that call\n",
    "    return sum(X[:index+1])\n",
    "\n",
    "callsNum = np.zeros(lastSecond) #result vector\n",
    "callsTimes=np.zeros(total)\n",
    "for i in range(total):\n",
    "    callsTimes[i]=callTime(X,i)\n",
    "newSum=0\n",
    "for i in range(lastSecond):\n",
    "    for j in range(total):\n",
    "        newSum=callsTimes[j]\n",
    "        if i==lastSecond-1: #if we're in the last loop\n",
    "            if newSum>i+1: #if our sum exceeds i+1, we won't have any call in the interval anymore\n",
    "                break\n",
    "            elif newSum>=i and newSum<=i+1: #last interval is like [i,i+1]\n",
    "                callsNum[i]=callsNum[i]+1 #call has happenned in current interval\n",
    "        else:\n",
    "            if newSum>=i+1:\n",
    "                break\n",
    "            elif newSum>=i and newSum<i+1: #all intervals except last one is like [i,i+1)\n",
    "                callsNum[i]=callsNum[i]+1\n",
    "\n",
    "\n",
    "\n",
    "fig = plt.figure(figsize=(15,6)) #creating figure\n",
    "fig.suptitle('callsNum normalized histogram + real poisson PMF') #figure title\n",
    "maxNum=int(max(callsNum)) #maximum number of calls in an interval\n",
    "plt.hist(callsNum,range=(0,maxNum+1),bins=range(0,maxNum+1),rwidth=1,density=True)\n",
    "plt.ylabel('frequecy(normalized) / PMF')\n",
    "plt.xlabel('calls number / k')\n",
    "plt.grid(True)\n",
    "\n",
    "# xPoints=np.array(range(0,7))\n",
    "# yPoints=np.zeros(len(xPoints))\n",
    "# for i in range(len(xPoints)):\n",
    "#     yPoints[i]=exp(-landa)*(landa**xPoints[i])/fact(int(xPoints[i]))\n",
    "r=range(0,7)\n",
    "Y=poisson(mu=landa)\n",
    "poissPlot=plt.bar(r,Y.pmf(r),width=0.5,color='orange')\n",
    "\n",
    "plt.show()\n",
    "    "
   ]
  }
 ],
 "metadata": {
  "kernelspec": {
   "display_name": "Python 3 (ipykernel)",
   "language": "python",
   "name": "python3"
  },
  "language_info": {
   "codemirror_mode": {
    "name": "ipython",
    "version": 3
   },
   "file_extension": ".py",
   "mimetype": "text/x-python",
   "name": "python",
   "nbconvert_exporter": "python",
   "pygments_lexer": "ipython3",
   "version": "3.9.7"
  }
 },
 "nbformat": 4,
 "nbformat_minor": 5
}

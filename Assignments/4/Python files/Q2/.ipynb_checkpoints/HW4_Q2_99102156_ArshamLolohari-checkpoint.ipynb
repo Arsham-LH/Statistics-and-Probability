{
 "cells": [
  {
   "cell_type": "code",
   "execution_count": 53,
   "id": "69a8f42e",
   "metadata": {},
   "outputs": [
    {
     "name": "stdout",
     "output_type": "stream",
     "text": [
      "samples mean= 9.9612\n",
      "samples Var= 5.0684945599999995\n",
      "P(8<=Y<=10)=  0.4632 \t\t(using samples)\n",
      "P(8<=Y<=10)=  0.3144533152386512 \t\t(using CLT)\n",
      "P(8<=Y<=10)=  0.45669212447945295 \t\t(using continue correction)\n"
     ]
    }
   ],
   "source": [
    "import numpy as np\n",
    "from numpy.random import binomial as binom\n",
    "from scipy.stats import norm\n",
    "from math import sqrt\n",
    "\n",
    "def SampleBinomial(p,n,size): #part1: creating SampleBinomial function\n",
    "    return binom(n,p,size=size)\n",
    "y=SampleBinomial(0.5,20,10000) #test for part1. expected mean:10, expected var:5\n",
    "print(\"samples mean=\",np.mean(y))\n",
    "print(\"samples Var=\",np.var(y))\n",
    "\n",
    "#calculating probability(method1)\n",
    "def FindProb(samples,l,u):\n",
    "    N=len(samples) #samples size\n",
    "    result=0 #number of elements inside interval [l,u]\n",
    "    lowBound=np.where(samples>=l)  \n",
    "    lowBound=lowBound[0] #index of elements greater or equal to l\n",
    "    upBound=np.where(samples<=u)\n",
    "    upBound=upBound[0] #index of elements lower or equal to u\n",
    "    bound=np.intersect1d(lowBound,upBound) #common indices between upBound & lowBound\n",
    "    result=len(bound)\n",
    "    return result/N #final ratio\n",
    "\n",
    "print(\"P(8<=Y<=10)= \", FindProb(y,8,10), \"\\t\\t(using samples)\") #testing function for l=8 & u=10\n",
    "\n",
    "\n",
    "\n",
    "#calculating probability(method2)\n",
    "def EstProb(p,n,l,u):\n",
    "    mean=p #Bernoulli distribution expected value\n",
    "    sd=sqrt(p*(1-p)) #Bernoulli distribution standard deviation\n",
    "    return (norm.cdf((u-n*mean)/(sd*sqrt(n)))-norm.cdf((l-n*mean)/(sd*sqrt(n)))) #according to notes in report\n",
    "print(\"P(8<=Y<=10)= \", EstProb(0.5,20.0,8.0,10.0), \"\\t\\t(using CLT)\") #testing function for l=8 & u=10\n",
    "\n",
    "\n",
    "\n",
    "#calculating probability(method3)\n",
    "def CorEstProb(p,n,l,u):\n",
    "    mean=p #Bernoulli distribution expected value\n",
    "    sd=sqrt(p*(1-p)) #Bernoulli distribution standard deviation\n",
    "    return (norm.cdf((u+0.5-n*mean)/(sd*sqrt(n)))-norm.cdf((l-0.5-n*mean)/(sd*sqrt(n)))) #according to notes in report\n",
    "\n",
    "print(\"P(8<=Y<=10)= \", CorEstProb(0.5,20.0,8.0,10.0), \"\\t\\t(using continue correction)\") #testing function for l=8 & u=10\n"
   ]
  }
 ],
 "metadata": {
  "kernelspec": {
   "display_name": "Python 3 (ipykernel)",
   "language": "python",
   "name": "python3"
  },
  "language_info": {
   "codemirror_mode": {
    "name": "ipython",
    "version": 3
   },
   "file_extension": ".py",
   "mimetype": "text/x-python",
   "name": "python",
   "nbconvert_exporter": "python",
   "pygments_lexer": "ipython3",
   "version": "3.9.7"
  }
 },
 "nbformat": 4,
 "nbformat_minor": 5
}

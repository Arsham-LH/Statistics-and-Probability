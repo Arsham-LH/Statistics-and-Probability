{
 "cells": [
  {
   "cell_type": "code",
   "execution_count": 31,
   "id": "63a0db09",
   "metadata": {},
   "outputs": [
    {
     "name": "stdout",
     "output_type": "stream",
     "text": [
      "test= 110.93322970208362\n",
      "Var(y)= 695439.8229337594\n"
     ]
    }
   ],
   "source": [
    "import numpy as np\n",
    "from scipy.stats import cauchy\n",
    "\n",
    "\n",
    "def CauchySampling(x0,gamma,size): #defining function\n",
    "    y=np.array(cauchy.rvs(loc=x0, scale=gamma, size=size)) #sampling from cauchy distribution\n",
    "    return np.mean(y) #calculating mean\n",
    "loc=100 #test x0\n",
    "scale=10 #test gamma\n",
    "size=100 #size for rvs\n",
    "test=CauchySampling(loc,scale,size)\n",
    "print(\"test=\",test)\n",
    "N=1000 #total number of tests\n",
    "y=np.zeros(N)\n",
    "for i in range(0,N): #testing N times and calculating means\n",
    "    y[i]=CauchySampling(loc,scale,size)\n",
    "var=np.var(y) #calculating variance\n",
    "print(\"Var(y)=\",var)"
   ]
  },
  {
   "cell_type": "code",
   "execution_count": 57,
   "id": "307cdbed",
   "metadata": {},
   "outputs": [
    {
     "name": "stdout",
     "output_type": "stream",
     "text": [
      "test= 19.091544641603292\n",
      "Var(n)= 3.145432589131153e+18\n"
     ]
    }
   ],
   "source": [
    "import numpy as np\n",
    "from scipy.stats import pareto\n",
    "\n",
    "\n",
    "def ParetoSampling(xm,alpha,size): #defining function\n",
    "    y=np.array(pareto.rvs(b=alpha, loc=0, scale=xm, size=size)) #sampling from pareto distribution\n",
    "    return np.mean(y) #calculating mean\n",
    "scale=1 #test xm\n",
    "b=0.5 #test alpha(shape)\n",
    "size=100 #size for rvs\n",
    "test=ParetoSampling(scale,b,size)\n",
    "print(\"test=\",test)\n",
    "N=1000 #total number of tests\n",
    "n=np.zeros(N)\n",
    "for i in range(0,N): #testing N times and calculating means\n",
    "    n[i]=ParetoSampling(scale,b,size)\n",
    "var=np.var(n) #calculating variance\n",
    "print(\"Var(n)=\",var)"
   ]
  }
 ],
 "metadata": {
  "kernelspec": {
   "display_name": "Python 3 (ipykernel)",
   "language": "python",
   "name": "python3"
  },
  "language_info": {
   "codemirror_mode": {
    "name": "ipython",
    "version": 3
   },
   "file_extension": ".py",
   "mimetype": "text/x-python",
   "name": "python",
   "nbconvert_exporter": "python",
   "pygments_lexer": "ipython3",
   "version": "3.9.7"
  }
 },
 "nbformat": 4,
 "nbformat_minor": 5
}

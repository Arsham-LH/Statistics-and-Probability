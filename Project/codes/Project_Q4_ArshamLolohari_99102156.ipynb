{
 "cells": [
  {
   "cell_type": "code",
   "execution_count": 59,
   "id": "4cb07f70",
   "metadata": {},
   "outputs": [
    {
     "data": {
      "image/png": "[encoded data removed]",
      "text/plain": [
       "<Figure size 432x288 with 1 Axes>"
      ]
     },
     "metadata": {
      "needs_background": "light"
     },
     "output_type": "display_data"
    }
   ],
   "source": [
    "import numpy as np\n",
    "from scipy.stats import bernoulli as ber\n",
    "from numpy.linalg import eig\n",
    "import matplotlib.pyplot as plt\n",
    "import sympy as sp\n",
    "from sympy import symbols, solve, nsolve, roots, solveset, nroots\n",
    "from sympy import re, im\n",
    "\n",
    "#defining a function to create bernoulli matrix with dimension 'size', and probability 'p'\n",
    "def berMat(size,p):\n",
    "    n=size**2 #total numbers in the matrix\n",
    "    M=ber.rvs(p,size=n) #creating size*size Bernoulli samples\n",
    "    return M.reshape(size,size) #reshaping samples into matrix\n",
    "\n",
    "\n",
    "\n",
    "\n",
    "#defining a function to calculate determinant (expanding row1)\n",
    "def determinant(M):\n",
    "    size=len(M) #size of matrix\n",
    "    if size>2:\n",
    "        s=0 #final determinant value\n",
    "        firstRow=M[0] #first row of matrix\n",
    "        for i in range(size): #for all elements of first row\n",
    "            newM=np.delete(M,0,0)\n",
    "            newM=np.delete(newM,i,1) #removing row 0 and col i from M\n",
    "            s=s+(-1)**i*firstRow[i]*determinant(newM) #determinant formula\n",
    "        return s\n",
    "    else: #if size of matrix equals2, the determinant equals ad-bc\n",
    "        a,b,c,d=M[0,0],M[0,1],M[1,0],M[1,1]\n",
    "        return a*d-b*c\n",
    "\n",
    "\n",
    "\n",
    "#defining a function to compute eigenvalues of given matrix M\n",
    "def eigenVal(M):\n",
    "    I_M=np.identity(len(M)) #identity matrix\n",
    "    M=sp.Matrix(M) #converting matrix into sympy\n",
    "    landa = symbols('l') #defining parameter landa\n",
    "    I_M=sp.Matrix(I_M) #converting identity matrix into sympy\n",
    "    M_landa=M-landa*I_M\n",
    "    deter=determinant(np.array(M_landa)) #det(M-landa*I)\n",
    "    ans=[x.evalf(5) for x in solve(deter)] #det(M-landa*I)=0 (solveset(deter,landa) is faster)\n",
    "    return ans\n",
    "\n",
    "                    \n",
    "\n",
    "                    \n",
    "total=100 #total number of experiments\n",
    "p=0.5 #probability for bernoulli\n",
    "size=5 #size of each matrix\n",
    "R=[] #real parts vector\n",
    "I=[] #imaginary parts vector\n",
    "\n",
    "for i in range(total):\n",
    "    A=berMat(size,p) #creating matrix\n",
    "    val=eigenVal(A) #computing eigenvalues\n",
    "    r=np.array([re(x) for x in val]) #real part of val\n",
    "    i=np.array([im(x) for x in val]) #imaginary part of val\n",
    "    R=np.concatenate((R,r),axis=None) #adding new values to R\n",
    "    I=np.concatenate((I,i),axis=None) #adding new values to I\n",
    "\n",
    "#plotting eigenvalues\n",
    "plt.scatter(R, I)\n",
    "plt.ylabel('Imaginary')\n",
    "plt.xlabel('Real')\n",
    "plt.title('eigenvalues with '+str(total)+' experiments & size '+str(size))\n",
    "plt.show()"
   ]
  },
  {
   "cell_type": "code",
   "execution_count": 58,
   "id": "15324daf",
   "metadata": {},
   "outputs": [
    {
     "data": {
      "image/png": "[encoded data removed]",
      "text/plain": [
       "<Figure size 432x288 with 1 Axes>"
      ]
     },
     "metadata": {
      "needs_background": "light"
     },
     "output_type": "display_data"
    }
   ],
   "source": [
    "import numpy as np\n",
    "from scipy.stats import bernoulli as ber\n",
    "from numpy.linalg import eig\n",
    "import matplotlib.pyplot as plt\n",
    "import sympy as sp\n",
    "from sympy import symbols, solve, nsolve, roots, nroots\n",
    "from sympy import re, im\n",
    "import cmath\n",
    "\n",
    "#defining a function to create bernoulli matrix with dimension 'size', and probability 'p'\n",
    "def berMat(size,p):\n",
    "    n=size**2 #total numbers in the matrix\n",
    "    M=ber.rvs(p,size=n) #creating size*size Bernoulli samples\n",
    "    return M.reshape(size,size) #reshaping samples into matrix\n",
    "\n",
    "\n",
    "\n",
    "\n",
    "#defining a function to calculate determinant (expanding row1)\n",
    "def determinant(M):\n",
    "    size=len(M) #size of matrix\n",
    "    if size>2:\n",
    "        s=0 #final determinant value\n",
    "        firstRow=M[0] #first row of matrix\n",
    "        for i in range(size): #for all elements of first row\n",
    "            newM=np.delete(M,0,0)\n",
    "            newM=np.delete(newM,i,1) #removing row 0 and col i from M\n",
    "            s=s+(-1)**i*firstRow[i]*determinant(newM) #determinant formula\n",
    "        return s\n",
    "    else: #if size of matrix equals2, the determinant equals ad-bc\n",
    "        a,b,c,d=M[0,0],M[0,1],M[1,0],M[1,1]\n",
    "        return a*d-b*c\n",
    "\n",
    "\n",
    "#defining a function to compute eigenvalues of given matrix M\n",
    "def eigenVal(M):\n",
    "    I_M=np.identity(len(M)) #identity matrix\n",
    "    M=sp.Matrix(M) #converting matrix into sympy\n",
    "    landa = symbols('l') #defining parameter landa\n",
    "    I_M=sp.Matrix(I_M) #converting identity matrix into sympy\n",
    "    M_landa=M-landa*I_M\n",
    "    deter=determinant(np.array(M_landa)) #det(M-landa*I), using determinant(M_landa) doesn't work\n",
    "    ans=[x.evalf(5) for x in solve(deter)] #det(M-landa*I)=0 (nroots(deter,n=4,maxsteps=1000) is faster)\n",
    "    return ans\n",
    "\n",
    "\n",
    "                    \n",
    "total=100 #total number of experiments\n",
    "p=0.5 #probability for bernoulli\n",
    "size=5 #size of each matrix\n",
    "v=[] #maximum absolute values vector\n",
    "for i in range(total):\n",
    "    A=berMat(size,p) #creating matrix\n",
    "    val=eigenVal(A) #computing eigenvalues\n",
    "    absol=np.absolute(val) #absolute value of eigenvalues\n",
    "    maxAbs=np.amax(absol) #maximum absolute value\n",
    "    ind=(np.where(absol==maxAbs)[0])[0] #index of maximum absolute value\n",
    "    val=np.absolute(val[ind]) #keep the maximum absolute value\n",
    "    v=np.concatenate((v,val),axis=None) #add the maximum absolute value to the main vector\n",
    "\n",
    "#plotting eigenvalues\n",
    "plt.scatter(v, np.zeros(len(v)))\n",
    "plt.ylabel('Imaginary')\n",
    "plt.xlabel('Real')\n",
    "plt.title('maximum eigenvalues with '+str(total)+' experiments & size '+str(size))\n",
    "plt.show()\n"
   ]
  }
 ],
 "metadata": {
  "kernelspec": {
   "display_name": "Python 3 (ipykernel)",
   "language": "python",
   "name": "python3"
  },
  "language_info": {
   "codemirror_mode": {
    "name": "ipython",
    "version": 3
   },
   "file_extension": ".py",
   "mimetype": "text/x-python",
   "name": "python",
   "nbconvert_exporter": "python",
   "pygments_lexer": "ipython3",
   "version": "3.9.7"
  }
 },
 "nbformat": 4,
 "nbformat_minor": 5
}
